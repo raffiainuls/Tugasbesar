{
  "nbformat": 4,
  "nbformat_minor": 0,
  "metadata": {
    "colab": {
      "name": "arithmetic.ipynb",
      "provenance": [],
      "collapsed_sections": []
    },
    "kernelspec": {
      "name": "python3",
      "display_name": "Python 3"
    },
    "language_info": {
      "name": "python"
    }
  },
  "cells": [
    {
      "cell_type": "markdown",
      "metadata": {
        "id": "view-in-github"
      },
      "source": [
        "<a href=\"https://colab.research.google.com/github/hanifnurf/TubesTKC_FlickrImage/blob/main/opencv_basic/arithmetic.ipynb\" target=\"_parent\"><img src=\"https://colab.research.google.com/assets/colab-badge.svg\" alt=\"Open In Colab\"/></a>"
      ]
    },
    {
      "cell_type": "code",
      "metadata": {
        "id": "jZBi5djARPwM",
        "colab": {
          "base_uri": "https://localhost:8080/",
          "height": 52
        },
        "outputId": "8c3ac988-d0ac-4669-8020-dc58c1120c5b"
      },
      "source": [
        "!pip install wget\n",
        "import wget\n",
        "url = \"https://github.com/raffiainuls/CIFAR-10-images/blob/master/train/airplane/0000.jpg?raw=true\"\n",
        "wget.download(url)"
      ],
      "execution_count": 11,
      "outputs": [
        {
          "output_type": "stream",
          "name": "stdout",
          "text": [
            "Requirement already satisfied: wget in /usr/local/lib/python3.7/dist-packages (3.2)\n"
          ]
        },
        {
          "output_type": "execute_result",
          "data": {
            "application/vnd.google.colaboratory.intrinsic+json": {
              "type": "string"
            },
            "text/plain": [
              "'0000 (1).jpg'"
            ]
          },
          "metadata": {},
          "execution_count": 11
        }
      ]
    },
    {
      "cell_type": "code",
      "metadata": {
        "id": "rZ6z_iu9T6Zi",
        "colab": {
          "base_uri": "https://localhost:8080/"
        },
        "outputId": "e00aa01a-5224-4dc6-a862-9f2137a87060"
      },
      "source": [
        "!wget https://drive.google.com/file/d/1ar69qiO9Gn21zoy-bnUr7P5VafNmgFR8/view?usp=sharing"
      ],
      "execution_count": 12,
      "outputs": [
        {
          "output_type": "stream",
          "name": "stdout",
          "text": [
            "--2021-11-08 00:23:44--  https://drive.google.com/file/d/1ar69qiO9Gn21zoy-bnUr7P5VafNmgFR8/view?usp=sharing\n",
            "Resolving drive.google.com (drive.google.com)... 74.125.203.113, 74.125.203.138, 74.125.203.100, ...\n",
            "Connecting to drive.google.com (drive.google.com)|74.125.203.113|:443... connected.\n",
            "HTTP request sent, awaiting response... 200 OK\n",
            "Length: unspecified [text/html]\n",
            "Saving to: ‘view?usp=sharing.1’\n",
            "\n",
            "view?usp=sharing.1      [ <=>                ]  65.04K  --.-KB/s    in 0.1s    \n",
            "\n",
            "2021-11-08 00:23:45 (528 KB/s) - ‘view?usp=sharing.1’ saved [66597]\n",
            "\n"
          ]
        }
      ]
    },
    {
      "cell_type": "code",
      "metadata": {
        "id": "tI1491_XBJOx"
      },
      "source": [
        "# import the necessary packages\n",
        "from matplotlib import pyplot as plt\n",
        "import numpy as np\n",
        "import argparse\n",
        "import cv2"
      ],
      "execution_count": 13,
      "outputs": []
    },
    {
      "cell_type": "code",
      "metadata": {
        "id": "BE-ZZPw2BKBM"
      },
      "source": [
        "def plt_imshow(title, image):\n",
        "\t# convert the image frame BGR to RGB color space and display it\n",
        "\timage = cv2.cvtColor(image, cv2.COLOR_BGR2RGB)\n",
        "\tplt.imshow(image)\n",
        "\tplt.title(title)\n",
        "\tplt.grid(False)\n",
        "\tplt.show()"
      ],
      "execution_count": 14,
      "outputs": []
    },
    {
      "cell_type": "code",
      "metadata": {
        "id": "BrcphxqPBLaF"
      },
      "source": [
        "# since we are using Jupyter Notebooks we can replace our argument\n",
        "# parsing code with *hard coded* arguments and values\n",
        "args = {\n",
        "\t\"image\": \"0000.jpg\"\n",
        "}"
      ],
      "execution_count": 15,
      "outputs": []
    },
    {
      "cell_type": "code",
      "metadata": {
        "colab": {
          "base_uri": "https://localhost:8080/"
        },
        "id": "JgEh7kRaBM9b",
        "outputId": "d394aa76-9a83-45c3-c937-d9a0a75b3a18"
      },
      "source": [
        "# images are NumPy arrays stored as unsigned 8-bit integers (unit8)\n",
        "# with values in the range [0, 255]; when using the add/subtract\n",
        "# functions in OpenCV, these values will be *clipped* to this range,\n",
        "# even if they fall outside the range [0, 255] after applying the\n",
        "# operation\n",
        "added = cv2.add(np.uint8([200]), np.uint8([100]))\n",
        "subtracted = cv2.subtract(np.uint8([50]), np.uint8([100]))\n",
        "print(\"max of 255: {}\".format(added))\n",
        "print(\"min of 0: {}\".format(subtracted))"
      ],
      "execution_count": 16,
      "outputs": [
        {
          "output_type": "stream",
          "name": "stdout",
          "text": [
            "max of 255: [[255]]\n",
            "min of 0: [[0]]\n"
          ]
        }
      ]
    },
    {
      "cell_type": "code",
      "metadata": {
        "colab": {
          "base_uri": "https://localhost:8080/"
        },
        "id": "7CJdlOiEBNCG",
        "outputId": "02b5de48-dfdc-47ba-ee88-1e7d17f8b9e9"
      },
      "source": [
        "# using NumPy arithmetic operations (rather than OpenCV operations)\n",
        "# will result in a modulo (\"wrap around\") instead of being clipped\n",
        "# to the range [0, 255]\n",
        "added = np.uint8([200]) + np.uint8([100])\n",
        "subtracted = np.uint8([50]) - np.uint8([100])\n",
        "print(\"wrap around: {}\".format(added))\n",
        "print(\"wrap around: {}\".format(subtracted))"
      ],
      "execution_count": 17,
      "outputs": [
        {
          "output_type": "stream",
          "name": "stdout",
          "text": [
            "wrap around: [44]\n",
            "wrap around: [206]\n"
          ]
        }
      ]
    },
    {
      "cell_type": "code",
      "metadata": {
        "colab": {
          "base_uri": "https://localhost:8080/",
          "height": 281
        },
        "id": "Hjrb9u0GBQ33",
        "outputId": "2b824df3-1f64-46e0-cba6-7fceba761548"
      },
      "source": [
        "# load the original input image and display it to our screen\n",
        "image = cv2.imread(args[\"image\"])\n",
        "plt_imshow(\"Original\", image)"
      ],
      "execution_count": 18,
      "outputs": [
        {
          "output_type": "display_data",
          "data": {
            "image/png": "[encoded data removed]",
            "text/plain": [
              "<Figure size 432x288 with 1 Axes>"
            ]
          },
          "metadata": {
            "needs_background": "light"
          }
        }
      ]
    },
    {
      "cell_type": "code",
      "metadata": {
        "colab": {
          "base_uri": "https://localhost:8080/",
          "height": 281
        },
        "id": "Sk2oGupWBSl8",
        "outputId": "2ddcbcd0-b5bf-4778-b66e-fc3273855660"
      },
      "source": [
        "# increasing the pixel intensities in our input image by 100 is\n",
        "# accomplished by constructing a NumPy array that has the *same\n",
        "# dimensions* as our input image, filling it with ones, multiplying\n",
        "# it by 100, and then adding the input image and matrix together\n",
        "M = np.ones(image.shape, dtype=\"uint8\") * 100\n",
        "added = cv2.add(image, M)\n",
        "plt_imshow(\"Lighter\", added)"
      ],
      "execution_count": 19,
      "outputs": [
        {
          "output_type": "display_data",
          "data": {
            "image/png": "[encoded data removed]",
            "text/plain": [
              "<Figure size 432x288 with 1 Axes>"
            ]
          },
          "metadata": {
            "needs_background": "light"
          }
        }
      ]
    },
    {
      "cell_type": "code",
      "metadata": {
        "colab": {
          "base_uri": "https://localhost:8080/",
          "height": 281
        },
        "id": "3CRMPKNcBUqS",
        "outputId": "09894a39-3289-494d-c5fd-fc493d79f31f"
      },
      "source": [
        "# similarly, we can subtract 50 from all pixels in our image and make it\n",
        "# darker\n",
        "M = np.ones(image.shape, dtype=\"uint8\") * 50\n",
        "subtracted = cv2.subtract(image, M)\n",
        "plt_imshow(\"Darker\", subtracted)"
      ],
      "execution_count": 20,
      "outputs": [
        {
          "output_type": "display_data",
          "data": {
            "image/png": "[encoded data removed]",
            "text/plain": [
              "<Figure size 432x288 with 1 Axes>"
            ]
          },
          "metadata": {
            "needs_background": "light"
          }
        }
      ]
    }
  ]
}