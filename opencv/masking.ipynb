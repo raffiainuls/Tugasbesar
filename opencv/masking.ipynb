{
  "nbformat": 4,
  "nbformat_minor": 0,
  "metadata": {
    "colab": {
      "name": "masking.ipynb",
      "provenance": []
    },
    "kernelspec": {
      "name": "python3",
      "display_name": "Python 3"
    },
    "language_info": {
      "name": "python"
    }
  },
  "cells": [
    {
      "cell_type": "markdown",
      "metadata": {
        "id": "view-in-github"
      },
      "source": [
        "<a href=\"https://colab.research.google.com/github/hanifnurf/TubesTKC_FlickrImage/blob/main/opencv_basic/masking.ipynb\" target=\"_parent\"><img src=\"https://colab.research.google.com/assets/colab-badge.svg\" alt=\"Open In Colab\"/></a>"
      ]
    },
    {
      "cell_type": "code",
      "metadata": {
        "id": "AYUO8IQQY2ni",
        "colab": {
          "base_uri": "https://localhost:8080/",
          "height": 186
        },
        "outputId": "9e00ee33-8082-41de-b566-89b138f334db"
      },
      "source": [
        "!pip install wget\n",
        "import wget\n",
        "url = \"https://github.com/raffiainuls/CIFAR-10-images/blob/master/test/automobile/0000.jpg?raw=true\"\n",
        "wget.download(url)"
      ],
      "execution_count": 1,
      "outputs": [
        {
          "output_type": "stream",
          "name": "stdout",
          "text": [
            "Collecting wget\n",
            "  Downloading wget-3.2.zip (10 kB)\n",
            "Building wheels for collected packages: wget\n",
            "  Building wheel for wget (setup.py) ... \u001b[?25l\u001b[?25hdone\n",
            "  Created wheel for wget: filename=wget-3.2-py3-none-any.whl size=9672 sha256=ab2b33bae6bd87e7c9e7d3db9b82f1d7d13105e9ec40a7fa1a101607f5fc758a\n",
            "  Stored in directory: /root/.cache/pip/wheels/a1/b6/7c/0e63e34eb06634181c63adacca38b79ff8f35c37e3c13e3c02\n",
            "Successfully built wget\n",
            "Installing collected packages: wget\n",
            "Successfully installed wget-3.2\n"
          ]
        },
        {
          "output_type": "execute_result",
          "data": {
            "application/vnd.google.colaboratory.intrinsic+json": {
              "type": "string"
            },
            "text/plain": [
              "'0000.jpg'"
            ]
          },
          "metadata": {},
          "execution_count": 1
        }
      ]
    },
    {
      "cell_type": "code",
      "metadata": {
        "id": "MfyxfJV1AR6R"
      },
      "source": [
        "# import the necessary packages\n",
        "from matplotlib import pyplot as plt\n",
        "import numpy as np\n",
        "import argparse\n",
        "import cv2"
      ],
      "execution_count": 2,
      "outputs": []
    },
    {
      "cell_type": "code",
      "metadata": {
        "id": "fTbIyUpJAVnt"
      },
      "source": [
        "def plt_imshow(title, image):\n",
        "\t# convert the image frame BGR to RGB color space and display it\n",
        "\timage = cv2.cvtColor(image, cv2.COLOR_BGR2RGB)\n",
        "\tplt.imshow(image)\n",
        "\tplt.title(title)\n",
        "\tplt.grid(False)\n",
        "\tplt.show()"
      ],
      "execution_count": 3,
      "outputs": []
    },
    {
      "cell_type": "code",
      "metadata": {
        "id": "owZE06TBAYFv"
      },
      "source": [
        "# since we are using Jupyter Notebooks we can replace our argument\n",
        "# parsing code with *hard coded* arguments and values\n",
        "args = {\n",
        "\t\"image\": \"0000.jpg\"\n",
        "}"
      ],
      "execution_count": 4,
      "outputs": []
    },
    {
      "cell_type": "code",
      "metadata": {
        "colab": {
          "base_uri": "https://localhost:8080/",
          "height": 809
        },
        "id": "InY6aET4Aagg",
        "outputId": "f806c495-af30-4975-ea40-e27ff8fad3d4"
      },
      "source": [
        "# load the original input image and display it to our screen\n",
        "image = cv2.imread(args[\"image\"])\n",
        "plt_imshow(\"Original\", image)\n",
        "\n",
        "# a mask is the same size as our image, but has only two pixel\n",
        "# values, 0 and 255 -- pixels with a value of 0 (background) are\n",
        "# ignored in the original image while mask pixels with a value of\n",
        "# 255 (foreground) are allowed to be kept\n",
        "mask = np.zeros(image.shape[:2], dtype=\"uint8\")\n",
        "cv2.rectangle(mask, (0, 90), (290, 450), 255, -1)\n",
        "plt_imshow(\"Rectangular Mask\", mask)\n",
        "\n",
        "# apply our mask -- notice how only the person in the image is\n",
        "# cropped out\n",
        "masked = cv2.bitwise_and(image, image, mask=mask)\n",
        "plt_imshow(\"Mask Applied to Image\", masked)"
      ],
      "execution_count": 5,
      "outputs": [
        {
          "output_type": "display_data",
          "data": {
            "image/png": "[encoded data removed]",
            "text/plain": [
              "<Figure size 432x288 with 1 Axes>"
            ]
          },
          "metadata": {
            "needs_background": "light"
          }
        },
        {
          "output_type": "display_data",
          "data": {
            "image/png": "[encoded data removed]",
            "text/plain": [
              "<Figure size 432x288 with 1 Axes>"
            ]
          },
          "metadata": {
            "needs_background": "light"
          }
        },
        {
          "output_type": "display_data",
          "data": {
            "image/png": "[encoded data removed]",
            "text/plain": [
              "<Figure size 432x288 with 1 Axes>"
            ]
          },
          "metadata": {
            "needs_background": "light"
          }
        }
      ]
    },
    {
      "cell_type": "code",
      "metadata": {
        "colab": {
          "base_uri": "https://localhost:8080/",
          "height": 545
        },
        "id": "B-9N7QtSAcW_",
        "outputId": "f36f171e-36ef-4972-d5eb-4158c8be0eae"
      },
      "source": [
        "# now, let's make a circular mask with a radius of 100 pixels and\n",
        "# apply the mask again\n",
        "mask = np.zeros(image.shape[:2], dtype=\"uint8\")\n",
        "cv2.circle(mask, (145, 200), 100, 255, -1)\n",
        "masked = cv2.bitwise_and(image, image, mask=mask)\n",
        "\n",
        "# show the output images\n",
        "plt_imshow(\"Circular Mask\", mask)\n",
        "plt_imshow(\"Mask Applied to Image\", masked)"
      ],
      "execution_count": 6,
      "outputs": [
        {
          "output_type": "display_data",
          "data": {
            "image/png": "[encoded data removed]",
            "text/plain": [
              "<Figure size 432x288 with 1 Axes>"
            ]
          },
          "metadata": {
            "needs_background": "light"
          }
        },
        {
          "output_type": "display_data",
          "data": {
            "image/png": "[encoded data removed]",
            "text/plain": [
              "<Figure size 432x288 with 1 Axes>"
            ]
          },
          "metadata": {
            "needs_background": "light"
          }
        }
      ]
    }
  ]
}