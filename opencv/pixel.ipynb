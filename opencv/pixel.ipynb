{
  "nbformat": 4,
  "nbformat_minor": 0,
  "metadata": {
    "colab": {
      "name": "pixel.ipynb",
      "provenance": [],
      "collapsed_sections": []
    },
    "kernelspec": {
      "name": "python3",
      "display_name": "Python 3"
    },
    "language_info": {
      "name": "python"
    }
  },
  "cells": [
    {
      "cell_type": "markdown",
      "metadata": {
        "id": "view-in-github"
      },
      "source": [
        "<a href=\"https://colab.research.google.com/github/hanifnurf/TubesTKC_FlickrImage/blob/main/opencv_basic/pixel.ipynb\" target=\"_parent\"><img src=\"https://colab.research.google.com/assets/colab-badge.svg\" alt=\"Open In Colab\"/></a>"
      ]
    },
    {
      "cell_type": "code",
      "metadata": {
        "id": "QYEp1mfGa5hq",
        "colab": {
          "base_uri": "https://localhost:8080/",
          "height": 186
        },
        "outputId": "2c03af86-6a52-491a-87b4-637026190251"
      },
      "source": [
        "!pip install wget\n",
        "import wget\n",
        "url = \"https://github.com/raffiainuls/CIFAR-10-images/blob/master/test/automobile/0000.jpg?raw=true\"\n",
        "wget.download(url)"
      ],
      "execution_count": 1,
      "outputs": [
        {
          "output_type": "stream",
          "name": "stdout",
          "text": [
            "Collecting wget\n",
            "  Downloading wget-3.2.zip (10 kB)\n",
            "Building wheels for collected packages: wget\n",
            "  Building wheel for wget (setup.py) ... \u001b[?25l\u001b[?25hdone\n",
            "  Created wheel for wget: filename=wget-3.2-py3-none-any.whl size=9672 sha256=7d9477bf9c13c5c0793ce63c8db03bd00e87343ef945a821970b22c116299741\n",
            "  Stored in directory: /root/.cache/pip/wheels/a1/b6/7c/0e63e34eb06634181c63adacca38b79ff8f35c37e3c13e3c02\n",
            "Successfully built wget\n",
            "Installing collected packages: wget\n",
            "Successfully installed wget-3.2\n"
          ]
        },
        {
          "output_type": "execute_result",
          "data": {
            "application/vnd.google.colaboratory.intrinsic+json": {
              "type": "string"
            },
            "text/plain": [
              "'0000.jpg'"
            ]
          },
          "metadata": {},
          "execution_count": 1
        }
      ]
    },
    {
      "cell_type": "code",
      "metadata": {
        "id": "vOgJXL0tDVqO"
      },
      "source": [
        "\n",
        "import cv2\n",
        "from matplotlib import pyplot as plot\n",
        "import numpy as nm"
      ],
      "execution_count": 8,
      "outputs": []
    },
    {
      "cell_type": "code",
      "metadata": {
        "colab": {
          "base_uri": "https://localhost:8080/",
          "height": 298
        },
        "id": "s4BTVn2ODW0d",
        "outputId": "643cf073-1c82-4743-f884-4ffe74e780b9"
      },
      "source": [
        "img = cv2.imread(\"0000.jpg\")\n",
        "plot.imshow(img)\n",
        "plot.title(\"Original Image\")"
      ],
      "execution_count": 9,
      "outputs": [
        {
          "output_type": "execute_result",
          "data": {
            "text/plain": [
              "Text(0.5, 1.0, 'Original Image')"
            ]
          },
          "metadata": {},
          "execution_count": 9
        },
        {
          "output_type": "display_data",
          "data": {
            "image/png": "[encoded data removed]",
            "text/plain": [
              "<Figure size 432x288 with 1 Axes>"
            ]
          },
          "metadata": {
            "needs_background": "light"
          }
        }
      ]
    },
    {
      "cell_type": "code",
      "metadata": {
        "colab": {
          "base_uri": "https://localhost:8080/",
          "height": 298
        },
        "id": "6Byq4yl8DcPu",
        "outputId": "bde9e8f6-495c-4028-89d0-930e8c9013a6"
      },
      "source": [
        "\n",
        "height,width = img.shape[:2] #Getting the image size\n",
        "w,h = (16,16) #setting the desired pixelated size\n",
        "\n",
        "#Resize input to pixelated size\n",
        "img1 = cv2.resize(img,(w,h), interpolation=cv2.INTER_LINEAR)\n",
        "\n",
        "#Converting pixelated image\n",
        "output = cv2.resize(img1,(width,height),interpolation=cv2.INTER_NEAREST)\n",
        "\n",
        "plot.imshow(output)\n",
        "plot.title(\"Pixelated Image\")"
      ],
      "execution_count": 11,
      "outputs": [
        {
          "output_type": "execute_result",
          "data": {
            "text/plain": [
              "Text(0.5, 1.0, 'Pixelated Image')"
            ]
          },
          "metadata": {},
          "execution_count": 11
        },
        {
          "output_type": "display_data",
          "data": {
            "image/png": "[encoded data removed]",
            "text/plain": [
              "<Figure size 432x288 with 1 Axes>"
            ]
          },
          "metadata": {
            "needs_background": "light"
          }
        }
      ]
    },
    {
      "cell_type": "code",
      "metadata": {
        "id": "Fi82-rIzDlWY"
      },
      "source": [
        ""
      ],
      "execution_count": null,
      "outputs": []
    }
  ]
}